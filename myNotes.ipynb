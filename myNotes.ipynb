{
 "cells": [
  {
   "cell_type": "markdown",
   "metadata": {},
   "source": [
    "# Writing Equations notes\n",
    "\n",
    "This is an inline equation: $E = mc^2$.\n",
    "\n",
    "This is a block equation:\n",
    "\n",
    "$$\n",
    "E = mc^2\n",
    "$$\n",
    "\n",
    "This is a numbered equation:\n",
    "\\begin{equation}\n",
    "E = mc^2\n",
    "\\end{equation}\n",
    "\n",
    "These are aligned equations:\n",
    "\\begin{align}\n",
    "a &= b + c \\\\\n",
    "d &= e + f\n",
    "\\end{align}\n",
    "\n",
    "This is an equation with a fraction:\n",
    "$$\n",
    "\\frac{1}{\\sqrt{2}}\n",
    "$$"
   ]
  },
  {
   "cell_type": "code",
   "execution_count": 307,
   "metadata": {},
   "outputs": [],
   "source": [
    "from qiskit import QuantumCircuit\n",
    "from qiskit.quantum_info import Statevector\n",
    "from qiskit.visualization import plot_state_qsphere, plot_bloch_multivector, visualize_transition\n",
    "import matplotlib.pyplot as plt\n",
    "from qiskit_aer import AerSimulator\n",
    "from qiskit.visualization import plot_bloch_vector\n",
    "from qiskit_aer import AerSimulator\n",
    "from qiskit import QuantumCircuit, ClassicalRegister, QuantumRegister, transpile\n",
    "from qiskit.quantum_info import DensityMatrix, StabilizerState\n",
    "from qiskit.visualization import array_to_latex\n",
    "# Import Aer\n",
    "from qiskit_aer import Aer\n",
    "from math import pi\n",
    "# Run the quantum circuit on a statevector simulator backend\n",
    "backend = Aer.get_backend('unitary_simulator')"
   ]
  },
  {
   "cell_type": "markdown",
   "metadata": {},
   "source": [
    " That is to say the zeroth qubit is the farthest to the right in a bitstring or tensor product."
   ]
  },
  {
   "cell_type": "markdown",
   "metadata": {},
   "source": [
    "# One qubit gate"
   ]
  },
  {
   "cell_type": "markdown",
   "metadata": {},
   "source": [
    "## Pauli X Gate"
   ]
  },
  {
   "cell_type": "markdown",
   "metadata": {},
   "source": [
    "The bit-flip gate $X$ is defined as:\n",
    "\n",
    "$$\n",
    "X   =  \n",
    "\\begin{pmatrix}\n",
    "0 & 1\\\\\n",
    "1 & 0\n",
    "\\end{pmatrix}= u(\\pi,0,\\pi)\n",
    "$$"
   ]
  },
  {
   "cell_type": "code",
   "execution_count": 14,
   "metadata": {},
   "outputs": [],
   "source": [
    "# Initialize a quantum circuit with 2 qubit\n",
    "qc = QuantumCircuit(1)\n",
    "\n",
    "qc.x(0)\n",
    "\n",
    "qc.draw(output='mpl')  # Display the circuit\n",
    "\n"
   ]
  },
  {
   "cell_type": "code",
   "execution_count": 15,
   "metadata": {},
   "outputs": [],
   "source": [
    "psi = Statevector(qc)\n",
    "psi.draw(\"latex\")"
   ]
  },
  {
   "cell_type": "code",
   "execution_count": 16,
   "metadata": {},
   "outputs": [],
   "source": [
    "from qiskit.quantum_info import DensityMatrix\n",
    "\n",
    "DensityMatrix(psi).draw(\"latex\")  # convert to a DensityMatrix and draw"
   ]
  },
  {
   "cell_type": "code",
   "execution_count": 17,
   "metadata": {},
   "outputs": [],
   "source": [
    "# Get the statevector after applying the gate\n",
    "state = Statevector.from_instruction(qc)\n",
    "plot_bloch_multivector(state)  # Bloch sphere representation\n"
   ]
  },
  {
   "cell_type": "code",
   "execution_count": 18,
   "metadata": {},
   "outputs": [],
   "source": [
    "job = backend.run(transpile(qc, backend))\n",
    "job.result().get_unitary(qc, decimals=3)"
   ]
  },
  {
   "cell_type": "code",
   "execution_count": 19,
   "metadata": {},
   "outputs": [],
   "source": [
    "plot_state_qsphere(psi)"
   ]
  },
  {
   "cell_type": "code",
   "execution_count": 146,
   "metadata": {},
   "outputs": [],
   "source": [
    "# Initialize simulator\n",
    "simulator = AerSimulator(method='statevector')\n",
    "\n",
    "# Initialize the circuit state with the initial state\n",
    "qc.save_statevector()\n",
    "\n",
    "# Execute the circuit on the simulator\n",
    "result = simulator.run(qc).result()\n",
    "\n",
    "# Get the final statevector\n",
    "final_statevector = result.get_statevector(qc)\n",
    "print(\"Final state after applying X gate:\", final_statevector)\n"
   ]
  },
  {
   "cell_type": "markdown",
   "metadata": {},
   "source": [
    "## Hadamard Gate "
   ]
  },
  {
   "cell_type": "markdown",
   "metadata": {},
   "source": [
    "- |0>  to  |+>\n",
    "- |1>  to  |->"
   ]
  },
  {
   "cell_type": "code",
   "execution_count": 54,
   "metadata": {},
   "outputs": [],
   "source": [
    "# Initialize a quantum circuit with 2 qubit\n",
    "qc = QuantumCircuit(1)\n",
    "\n",
    "qc.h(0) ## Create One \n",
    "#qc.z(0)\n",
    "\n",
    "qc.draw(output='mpl', reverse_bits='true')  # Display the circuit\n",
    "\n"
   ]
  },
  {
   "cell_type": "code",
   "execution_count": 55,
   "metadata": {},
   "outputs": [],
   "source": [
    "psi = Statevector(qc)\n",
    "psi.draw(\"latex\")"
   ]
  },
  {
   "cell_type": "code",
   "execution_count": 56,
   "metadata": {},
   "outputs": [],
   "source": [
    "from qiskit.quantum_info import DensityMatrix\n",
    "\n",
    "DensityMatrix(psi).draw(\"latex\")  # convert to a DensityMatrix and draw"
   ]
  },
  {
   "cell_type": "code",
   "execution_count": 57,
   "metadata": {},
   "outputs": [],
   "source": [
    "# Get the statevector after applying the gate\n",
    "state = Statevector.from_instruction(qc)\n",
    "plot_bloch_multivector(state)  # Bloch sphere representation\n"
   ]
  },
  {
   "cell_type": "code",
   "execution_count": 58,
   "metadata": {},
   "outputs": [],
   "source": [
    "visualize_transition(qc, trace=True)"
   ]
  },
  {
   "cell_type": "code",
   "execution_count": 37,
   "metadata": {},
   "outputs": [],
   "source": [
    "plot_state_qsphere(psi)"
   ]
  },
  {
   "cell_type": "code",
   "execution_count": 38,
   "metadata": {},
   "outputs": [],
   "source": [
    "job = backend.run(transpile(qc, backend))\n",
    "job.result().get_unitary(qc, decimals=3)"
   ]
  },
  {
   "cell_type": "code",
   "execution_count": 39,
   "metadata": {},
   "outputs": [],
   "source": [
    "# Initialize simulator\n",
    "simulator = AerSimulator(method='statevector')\n",
    "\n",
    "# Initialize the circuit state with the initial state\n",
    "qc.save_statevector()\n",
    "\n",
    "# Execute the circuit on the simulator\n",
    "result = simulator.run(qc).result()\n",
    "\n",
    "# Get the final statevector\n",
    "final_statevector = result.get_statevector(qc)\n",
    "print(\"Final state\", final_statevector)\n"
   ]
  },
  {
   "cell_type": "markdown",
   "metadata": {},
   "source": [
    "### H gate on 2 qbits"
   ]
  },
  {
   "cell_type": "code",
   "execution_count": 41,
   "metadata": {},
   "outputs": [],
   "source": [
    "# Initialize a quantum circuit with 2 qubit\n",
    "qc = QuantumCircuit(2)\n",
    "\n",
    "qc.h(0) ## Create One \n",
    "#qc.z(0)\n",
    "\n",
    "qc.draw(output='mpl', reverse_bits='true')  # Display the circuit\n",
    "\n"
   ]
  },
  {
   "cell_type": "code",
   "execution_count": 42,
   "metadata": {},
   "outputs": [],
   "source": [
    "psi = Statevector(qc)\n",
    "psi.draw(\"latex\")"
   ]
  },
  {
   "cell_type": "code",
   "execution_count": 44,
   "metadata": {},
   "outputs": [],
   "source": [
    "# Define the |0⟩ state\n",
    "state_0 = Statevector.from_label('0')\n",
    "\n",
    "# Define the |+⟩ state\n",
    "state_plus = Statevector.from_label('+')\n",
    "\n",
    "# Calculate the tensor product\n",
    "combined_state = state_0.tensor(state_plus)\n",
    "\n",
    "# Print the combined state\n",
    "print(\"Tensor product of |0⟩ and |+⟩:\")\n",
    "print(combined_state)"
   ]
  },
  {
   "cell_type": "code",
   "execution_count": 45,
   "metadata": {},
   "outputs": [],
   "source": [
    "from qiskit.quantum_info import DensityMatrix\n",
    "\n",
    "DensityMatrix(psi).draw(\"latex\")  # convert to a DensityMatrix and draw"
   ]
  },
  {
   "cell_type": "code",
   "execution_count": 46,
   "metadata": {},
   "outputs": [],
   "source": [
    "# Get the statevector after applying the gate\n",
    "state = Statevector.from_instruction(qc)\n",
    "plot_bloch_multivector(state)  # Bloch sphere representation\n"
   ]
  },
  {
   "cell_type": "code",
   "execution_count": 47,
   "metadata": {},
   "outputs": [],
   "source": [
    "plot_state_qsphere(psi)"
   ]
  },
  {
   "cell_type": "code",
   "execution_count": 48,
   "metadata": {},
   "outputs": [],
   "source": [
    "# Initialize simulator\n",
    "simulator = AerSimulator(method='statevector')\n",
    "\n",
    "# Initialize the circuit state with the initial state\n",
    "qc.save_statevector()\n",
    "\n",
    "# Execute the circuit on the simulator\n",
    "result = simulator.run(qc).result()\n",
    "\n",
    "# Get the final statevector\n",
    "final_statevector = result.get_statevector(qc)\n",
    "print(\"Final state\", final_statevector)\n"
   ]
  },
  {
   "cell_type": "markdown",
   "metadata": {},
   "source": [
    "## Z Gate"
   ]
  },
  {
   "cell_type": "code",
   "execution_count": 278,
   "metadata": {},
   "outputs": [],
   "source": [
    "# Initialize a quantum circuit with 2 qubit\n",
    "qc = QuantumCircuit(1)\n",
    "\n",
    "qc.x(0)\n",
    "qc.z(0) ## Create One \n",
    "\n",
    "\n",
    "qc.draw(output='mpl', reverse_bits='true')  # Display the circuit"
   ]
  },
  {
   "cell_type": "code",
   "execution_count": 279,
   "metadata": {},
   "outputs": [],
   "source": [
    "psi = Statevector(qc)\n",
    "psi.draw(\"latex\")"
   ]
  },
  {
   "cell_type": "code",
   "execution_count": 280,
   "metadata": {},
   "outputs": [],
   "source": [
    "# Get the statevector after applying the gate\n",
    "state = Statevector.from_instruction(qc)\n",
    "plot_bloch_multivector(state)  # Bloch sphere representation"
   ]
  },
  {
   "cell_type": "markdown",
   "metadata": {},
   "source": [
    "### Hadamard + Z  >   |->"
   ]
  },
  {
   "cell_type": "code",
   "execution_count": 80,
   "metadata": {},
   "outputs": [],
   "source": [
    "# Initialize a quantum circuit with 2 qubit\n",
    "qc = QuantumCircuit(1)\n",
    "\n",
    "qc.h(0)\n",
    "qc.z(0) ## Create One \n",
    "\n",
    "\n",
    "qc.draw(output='mpl', reverse_bits='true')  # Display the circuit"
   ]
  },
  {
   "cell_type": "code",
   "execution_count": 81,
   "metadata": {},
   "outputs": [],
   "source": [
    "psi = Statevector(qc)\n",
    "psi.draw(\"latex\")"
   ]
  },
  {
   "cell_type": "code",
   "execution_count": 82,
   "metadata": {},
   "outputs": [],
   "source": [
    "# Get the statevector after applying the gate\n",
    "state = Statevector.from_instruction(qc)\n",
    "plot_bloch_multivector(state)  # Bloch sphere representation"
   ]
  },
  {
   "cell_type": "markdown",
   "metadata": {},
   "source": [
    "## Rotation"
   ]
  },
  {
   "cell_type": "code",
   "execution_count": 315,
   "metadata": {},
   "outputs": [],
   "source": [
    "qc = QuantumCircuit(1)\n",
    "#qc.x(0)\n",
    "qc.ry(pi,0)\n",
    "qc.draw(output='mpl', reverse_bits='true')"
   ]
  },
  {
   "cell_type": "code",
   "execution_count": 316,
   "metadata": {},
   "outputs": [],
   "source": [
    "psi = Statevector(qc)\n",
    "psi.draw(\"latex\")\n",
    "#psi.draw(\"latex\")"
   ]
  },
  {
   "cell_type": "code",
   "execution_count": 317,
   "metadata": {},
   "outputs": [],
   "source": [
    "from qiskit.quantum_info import DensityMatrix\n",
    "\n",
    "DensityMatrix(qc).draw(\"latex\")  # convert to a DensityMatrix and draw"
   ]
  },
  {
   "cell_type": "code",
   "execution_count": 322,
   "metadata": {},
   "outputs": [],
   "source": [
    "# Get the statevector after applying the gate\n",
    "state = Statevector.from_instruction(qc)\n",
    "plot_bloch_multivector(state)  # Bloch sphere representation"
   ]
  },
  {
   "cell_type": "markdown",
   "metadata": {},
   "source": [
    "## Y Gate\n",
    " $Y$: bit- and phase-flip gate\n",
    "\n",
    "The $Y$ gate is defined as:\n",
    "\n",
    "$$\n",
    "Y  = \n",
    "\\begin{pmatrix}\n",
    "0 & -i\\\\\n",
    "i & 0\n",
    "\\end{pmatrix}=u(\\pi,\\pi/2,\\pi/2)\n",
    "$$"
   ]
  },
  {
   "cell_type": "code",
   "execution_count": 98,
   "metadata": {},
   "outputs": [],
   "source": [
    "# Initialize a quantum circuit with 2 qubit\n",
    "qc = QuantumCircuit(1)\n",
    "\n",
    "\n",
    "qc.y(0)\n",
    "\n",
    "qc.draw(output='mpl', reverse_bits='true')  # Display the circuit"
   ]
  },
  {
   "cell_type": "code",
   "execution_count": 99,
   "metadata": {},
   "outputs": [],
   "source": [
    "psi = Statevector(qc)\n",
    "psi.draw(\"latex\")"
   ]
  },
  {
   "cell_type": "code",
   "execution_count": 100,
   "metadata": {},
   "outputs": [],
   "source": [
    "# Get the statevector after applying the gate\n",
    "state = Statevector.from_instruction(qc)\n",
    "plot_bloch_multivector(state)  # Bloch sphere representation"
   ]
  },
  {
   "cell_type": "markdown",
   "metadata": {},
   "source": [
    "### Hadamard + Y"
   ]
  },
  {
   "cell_type": "code",
   "execution_count": 106,
   "metadata": {},
   "outputs": [],
   "source": [
    "# Initialize a quantum circuit with 2 qubit\n",
    "qc = QuantumCircuit(1)\n",
    "\n",
    "qc.h(0)\n",
    "qc.y(0)\n",
    "\n",
    "qc.draw(output='mpl', reverse_bits='true')  # Display the circuit"
   ]
  },
  {
   "cell_type": "code",
   "execution_count": 107,
   "metadata": {},
   "outputs": [],
   "source": [
    "psi = Statevector(qc)\n",
    "psi.draw(\"latex\")"
   ]
  },
  {
   "cell_type": "code",
   "execution_count": 108,
   "metadata": {},
   "outputs": [],
   "source": [
    "# Get the statevector after applying the gate\n",
    "state = Statevector.from_instruction(qc)\n",
    "plot_bloch_multivector(state)  # Bloch sphere representation"
   ]
  },
  {
   "cell_type": "code",
   "execution_count": 109,
   "metadata": {},
   "outputs": [],
   "source": [
    "plot_state_qsphere(psi)"
   ]
  },
  {
   "cell_type": "code",
   "execution_count": 110,
   "metadata": {},
   "outputs": [],
   "source": [
    "# Initialize simulator\n",
    "simulator = AerSimulator(method='statevector')\n",
    "\n",
    "# Initialize the circuit state with the initial state\n",
    "qc.save_statevector()\n",
    "\n",
    "# Execute the circuit on the simulator\n",
    "result = simulator.run(qc).result()\n",
    "\n",
    "# Get the final statevector\n",
    "final_statevector = result.get_statevector(qc)\n",
    "print(\"Final state\", final_statevector)\n"
   ]
  },
  {
   "cell_type": "markdown",
   "metadata": {},
   "source": []
  },
  {
   "cell_type": "markdown",
   "metadata": {},
   "source": [
    "## P gate\n",
    "\n",
    "The $p(\\lambda)= u(0, 0, \\lambda)$ gate has the matrix form\n",
    "\n",
    "$$\n",
    "p(\\lambda) = \n",
    "\\begin{pmatrix}\n",
    "1 & 0 \\\\\n",
    "0 & e^{i \\lambda}\n",
    "\\end{pmatrix},\n",
    "$$\n",
    "\n",
    "which is useful as it allows us to apply a quantum phase."
   ]
  },
  {
   "cell_type": "code",
   "execution_count": 246,
   "metadata": {},
   "outputs": [],
   "source": [
    "\n",
    "# Initialize a quantum circuit with 1 qubit\n",
    "qc = QuantumCircuit(1)\n",
    "\n",
    "# Apply the P gate with a phase of π/2 (90 degrees)\n",
    "theta = 3.14159 / 2\n",
    "qc.x(0)\n",
    "qc.p(theta, 0)\n",
    "# Plot the circuit\n",
    "\n",
    "\n",
    "qc.draw(output='mpl')  # Display the circuit\n",
    "\n"
   ]
  },
  {
   "cell_type": "code",
   "execution_count": 247,
   "metadata": {},
   "outputs": [],
   "source": [
    "psi = Statevector(qc)\n",
    "psi.draw(\"latex\")"
   ]
  },
  {
   "cell_type": "code",
   "execution_count": 131,
   "metadata": {},
   "outputs": [],
   "source": [
    "# Get the statevector after applying the gate\n",
    "state = Statevector.from_instruction(qc)\n",
    "plot_bloch_multivector(state)  # Bloch sphere representation\n",
    "\n"
   ]
  },
  {
   "cell_type": "code",
   "execution_count": 122,
   "metadata": {},
   "outputs": [],
   "source": [
    "plot_state_qsphere(state)  # Q-sphere representation"
   ]
  },
  {
   "cell_type": "code",
   "execution_count": 132,
   "metadata": {},
   "outputs": [],
   "source": [
    "# Extract amplitudes for |0> and |1>\n",
    "amplitudes = state.data\n",
    "amp_0, amp_1 = amplitudes[0], amplitudes[1]\n",
    "\n",
    "# Format the state equation\n",
    "state_equation = f\"{amp_0:.3f}|0⟩ + ({amp_1:.3f})|1⟩\"\n",
    "print(\"State Equation:\")\n",
    "print(state_equation)"
   ]
  },
  {
   "cell_type": "markdown",
   "metadata": {},
   "source": [
    "# Two Qbits Gates"
   ]
  },
  {
   "cell_type": "markdown",
   "metadata": {},
   "source": [
    "## Controlled X Gate"
   ]
  },
  {
   "cell_type": "code",
   "execution_count": 164,
   "metadata": {},
   "outputs": [],
   "source": [
    "q = QuantumRegister(2)\n",
    "# Initialize a quantum circuit with 1 qubit\n",
    "qc = QuantumCircuit(q)\n",
    "\n",
    "qc.x(q[1])\n",
    "qc.cx(q[1], q[0])\n",
    "# Plot the circuit\n",
    "\n",
    "\n",
    "qc.draw(output='mpl', reverse_bits='true')  # Display the circuit\n",
    "\n"
   ]
  },
  {
   "cell_type": "code",
   "execution_count": 165,
   "metadata": {},
   "outputs": [],
   "source": [
    "psi = Statevector(qc)\n",
    "psi.draw(\"latex\")"
   ]
  },
  {
   "cell_type": "code",
   "execution_count": 166,
   "metadata": {},
   "outputs": [],
   "source": [
    "from qiskit.quantum_info import DensityMatrix\n",
    "\n",
    "DensityMatrix(psi).draw(\"latex\")  # convert to a DensityMatrix and draw"
   ]
  },
  {
   "cell_type": "code",
   "execution_count": 167,
   "metadata": {},
   "outputs": [],
   "source": [
    "# Get the statevector after applying the gate\n",
    "state = Statevector.from_instruction(qc)\n",
    "plot_bloch_multivector(state)  # Bloch sphere representation"
   ]
  },
  {
   "cell_type": "code",
   "execution_count": 168,
   "metadata": {},
   "outputs": [],
   "source": [
    "# Initialize simulator\n",
    "simulator = AerSimulator(method='statevector')\n",
    "\n",
    "# Initialize the circuit state with the initial state\n",
    "qc.save_statevector()\n",
    "\n",
    "# Execute the circuit on the simulator\n",
    "result = simulator.run(qc).result()\n",
    "\n",
    "# Get the final statevector\n",
    "final_statevector = result.get_statevector(qc)\n",
    "print(\"Final state\", final_statevector)\n"
   ]
  },
  {
   "cell_type": "markdown",
   "metadata": {},
   "source": [
    "## Controlled Z gate"
   ]
  },
  {
   "cell_type": "markdown",
   "metadata": {},
   "source": [
    "this gate flips the phase of the target qubit if the control qubit is in the \n",
    "∣1⟩ state.\n",
    "\n",
    "\n",
    "\n",
    "CZ|00> = |00> (Control qubit is |0>, no change)\n",
    "\n",
    "CZ|01> = |01> (Control qubit is |0>, no change) \n",
    "\n",
    "CZ|10> = |10> (Control qubit is |1>, no change to target qubit |0>)\n",
    "\n",
    "CZ|11> = -|11> (Control qubit is |1>, phase flip applied to target qubit |1>)\n",
    "\n"
   ]
  },
  {
   "cell_type": "code",
   "execution_count": 235,
   "metadata": {},
   "outputs": [],
   "source": [
    "q = QuantumRegister(2)\n",
    "# Initialize a quantum circuit with 1 qubit\n",
    "qc = QuantumCircuit(q)\n",
    "\n",
    "qc.x(q[0])\n",
    "qc.x(q[1])\n",
    "qc.cz(q[1], q[0])\n",
    "\n",
    "\n",
    "qc.draw(output='mpl', reverse_bits='true')  # Display the circuit\n",
    "\n"
   ]
  },
  {
   "cell_type": "code",
   "execution_count": 236,
   "metadata": {},
   "outputs": [],
   "source": [
    "psi = Statevector(qc)\n",
    "psi.draw(\"latex\")"
   ]
  },
  {
   "cell_type": "code",
   "execution_count": 238,
   "metadata": {},
   "outputs": [],
   "source": [
    "from qiskit.quantum_info import DensityMatrix\n",
    "\n",
    "DensityMatrix(psi).draw(\"latex\")  # convert to a DensityMatrix and draw"
   ]
  },
  {
   "cell_type": "code",
   "execution_count": 239,
   "metadata": {},
   "outputs": [],
   "source": [
    "# Get the statevector after applying the gate\n",
    "state = Statevector.from_instruction(qc)\n",
    "plot_bloch_multivector(state)  # Bloch sphere representation"
   ]
  },
  {
   "cell_type": "markdown",
   "metadata": {},
   "source": [
    "## Bell state circuit"
   ]
  },
  {
   "cell_type": "markdown",
   "metadata": {},
   "source": []
  },
  {
   "cell_type": "markdown",
   "metadata": {},
   "source": [
    "\n",
    "\n",
    "A Bell state circuit is a quantum circuit that generates entangled states of two qubits, known as Bell states. Bell states are a specific type of quantum state that represent the simplest and most well-known examples of entanglement. There are four Bell states, which can be generated using a combination of Hadamard and CNOT gates.\n",
    "\n",
    "The general procedure to create a Bell state is as follows:\n",
    "1. Apply a Hadamard gate to the first qubit to create a superposition.\n",
    "2. Apply a CNOT gate with the first qubit as the control and the second qubit as the target to entangle the qubits.\n",
    "\n",
    "The four Bell states are:\n",
    "\\begin{align}\n",
    "|Φ⁺⟩ =\\frac{1}{\\sqrt{2}} (|00⟩ + |11⟩) & \\quad \\text{(Input: Hadamard on qubit 0, CNOT with qubit 0 as control and qubit 1 as target)} \\\\\n",
    "|Φ⁻⟩ =\\frac{1}{\\sqrt{2}} (|00⟩ - |11⟩) & \\quad \\text{(Input: Hadamard on qubit 0, CNOT, Z on qubit 0)} \\\\\n",
    "|Ψ⁺⟩ =\\frac{1}{\\sqrt{2}} (|01⟩ + |10⟩) & \\quad \\text{(Input: Hadamard on qubit 0, CNOT, X on qubit 0)} \\\\\n",
    "|Ψ⁻⟩ =\\frac{1}{\\sqrt{2}} (|01⟩ - |10⟩) & \\quad \\text{(Input: Hadamard on qubit 0, CNOT, X and Z on qubit 0)} \\\\\n",
    "\\end{align}\n",
    "\n",
    "\\end{align}\n",
    "By applying additional gates (such as Pauli-X, Pauli-Z) to the qubits before or after the entangling operations, all four Bell states can be generated."
   ]
  },
  {
   "cell_type": "code",
   "execution_count": 11,
   "metadata": {},
   "outputs": [],
   "source": [
    "# Create a quantum circuit with 2 qubits\n",
    "qc = QuantumCircuit(2)\n",
    "qc.x(0)\n",
    "# Apply a Hadamard gate to the first qubit\n",
    "qc.h(0)\n",
    "\n",
    "\n",
    "# Apply a CNOT gate with the first qubit as control and the second qubit as target\n",
    "qc.cx(0, 1)\n",
    "\n",
    "\n",
    "# Draw the circuit\n",
    "qc.draw(output='mpl')"
   ]
  },
  {
   "cell_type": "code",
   "execution_count": 12,
   "metadata": {},
   "outputs": [],
   "source": [
    "psi = Statevector(qc)\n",
    "psi.draw(\"latex\")"
   ]
  },
  {
   "cell_type": "markdown",
   "metadata": {},
   "source": [
    "## Control Hadamard Gate (CH)"
   ]
  },
  {
   "cell_type": "markdown",
   "metadata": {},
   "source": [
    "# Three Qbits Gates"
   ]
  },
  {
   "cell_type": "markdown",
   "metadata": {},
   "source": [
    "## SWAP Gate"
   ]
  },
  {
   "cell_type": "code",
   "execution_count": 15,
   "metadata": {},
   "outputs": [],
   "source": [
    "# Initialize a quantum circuit with 2 qubits\n",
    "qc = QuantumCircuit(2)\n",
    "\n",
    "# Apply the SWAP gate\n",
    "qc.swap(0, 1)\n",
    "\n",
    "# Draw the circuit\n",
    "qc.draw(output='mpl')"
   ]
  },
  {
   "cell_type": "markdown",
   "metadata": {},
   "source": [
    "## Controlled SWAP Gate (Fredkin)"
   ]
  },
  {
   "cell_type": "code",
   "execution_count": 102,
   "metadata": {},
   "outputs": [],
   "source": [
    "from qiskit import QuantumCircuit, QuantumRegister\n",
    "\n",
    "# Create a quantum register with 3 qubits\n",
    "q = QuantumRegister(3)\n",
    "\n",
    "# Initialize a quantum circuit with 3 qubits\n",
    "qc = QuantumCircuit(q)\n",
    "\n",
    "# Apply the CSWAP gate (Fredkin gate)\n",
    "qc.cswap(q[0], q[1], q[2])\n",
    "\n",
    "# Draw the circuit\n",
    "qc.draw(output='mpl')"
   ]
  },
  {
   "cell_type": "code",
   "execution_count": 103,
   "metadata": {},
   "outputs": [],
   "source": [
    "psi = Statevector(qc)\n",
    "psi.draw(\"latex\")"
   ]
  },
  {
   "cell_type": "markdown",
   "metadata": {},
   "source": [
    "### AND Gate From  CSWAP gate"
   ]
  },
  {
   "cell_type": "code",
   "execution_count": 44,
   "metadata": {},
   "outputs": [],
   "source": [
    "from qiskit import QuantumCircuit, QuantumRegister, ClassicalRegister, transpile\n",
    "from qiskit.visualization import plot_histogram\n",
    "\n",
    "# Create a quantum register with 3 qubits and a classical register with 1 bit\n",
    "q = QuantumRegister(3, 'q')\n",
    "c = ClassicalRegister(1, 'c')\n",
    "qc = QuantumCircuit(q, c)\n",
    "\n",
    "qc.x(q[0])\n",
    "qc.x(q[1])\n",
    "\n",
    "# Apply the CSWAP gate (Fredkin gate)\n",
    "qc.cswap(q[0], q[1], q[2])\n",
    "\n",
    "# Measure the target qubit (q[2]) to get the AND result\n",
    "qc.measure(q[2], c[0])\n",
    "\n",
    "# Draw the circuit\n",
    "qc.draw(output='mpl')"
   ]
  },
  {
   "cell_type": "code",
   "execution_count": 26,
   "metadata": {},
   "outputs": [],
   "source": [
    "# Initialize the simulator\n",
    "simulator = AerSimulator()\n",
    "\n",
    "# Transpile the circuit for the simulator\n",
    "compiled_circuit = transpile(qc, simulator)\n",
    "\n",
    "# Execute the circuit on the simulator\n",
    "result = simulator.run(compiled_circuit, shots=1).result()\n",
    "\n",
    "# Get the measurement results\n",
    "counts = result.get_counts(qc)\n",
    "\n",
    "# Print the measurement results\n",
    "print(\"Measurement results:\", counts)\n",
    "\n",
    "# Plot the histogram of the results\n",
    "plot_histogram(counts)\n",
    "\n"
   ]
  },
  {
   "cell_type": "markdown",
   "metadata": {},
   "source": [
    "### NAND gate from CSWAP"
   ]
  },
  {
   "cell_type": "code",
   "execution_count": 47,
   "metadata": {},
   "outputs": [],
   "source": [
    "from qiskit import QuantumCircuit, QuantumRegister, ClassicalRegister\n",
    "from qiskit.visualization import plot_histogram\n",
    "\n",
    "# Create a quantum register with 3 qubits and a classical register with 1 bit\n",
    "q = QuantumRegister(3, 'q')\n",
    "c = ClassicalRegister(1, 'c')\n",
    "qc = QuantumCircuit(q, c)\n",
    "\n",
    "# Apply X gates to negate the inputs\n",
    "\n",
    "\n",
    "# Apply the CSWAP gate (Fredkin gate)\n",
    "qc.cswap(q[0], q[1], q[2])\n",
    "\n",
    "# Apply an X gate to the target qubit to get the NAND result\n",
    "qc.x(q[2])\n",
    "\n",
    "# Measure the target qubit (q[2]) to get the NAND result\n",
    "qc.measure(q[2], c[0])\n",
    "\n",
    "# Draw the circuit\n",
    "qc.draw(output='mpl')"
   ]
  },
  {
   "cell_type": "code",
   "execution_count": 88,
   "metadata": {
    "vscode": {
     "languageId": "markdown"
    }
   },
   "outputs": [],
   "source": [
    "# Initialize the simulator\n",
    "simulator = AerSimulator()\n",
    "\n",
    "# Transpile the circuit for the simulator\n",
    "compiled_circuit = transpile(qc, simulator)\n",
    "\n",
    "# Execute the circuit on the simulator\n",
    "result = simulator.run(compiled_circuit, shots=1).result()\n",
    "\n",
    "# Get the measurement results\n",
    "counts = result.get_counts(qc)\n",
    "\n",
    "# Print the measurement results\n",
    "print(\"Measurement results:\", counts)\n",
    "\n",
    "# Plot the histogram of the results\n",
    "plot_histogram(counts)"
   ]
  },
  {
   "cell_type": "markdown",
   "metadata": {},
   "source": [
    "## Teffoli Gate"
   ]
  },
  {
   "cell_type": "code",
   "execution_count": 185,
   "metadata": {},
   "outputs": [],
   "source": [
    "q = QuantumRegister(3)\n",
    "# Initialize a quantum circuit with 1 qubit\n",
    "qc = QuantumCircuit(q)\n",
    "\n",
    "\n",
    "qc.x(q[2])\n",
    "qc.x(q[1])\n",
    "\n",
    "qc.ccx(q[2], q[1], q[0])\n",
    "# Plot the circuit\n",
    "\n",
    "\n",
    "qc.draw(output='mpl', reverse_bits='true')  # Display the circuit\n"
   ]
  },
  {
   "attachments": {
    "image.png": {
     "image/png": "[encoded data removed]"
    }
   },
   "cell_type": "markdown",
   "metadata": {},
   "source": [
    "![image.png](attachment:image.png)"
   ]
  },
  {
   "cell_type": "code",
   "execution_count": 186,
   "metadata": {},
   "outputs": [],
   "source": [
    "psi = Statevector(qc)\n",
    "psi.draw(\"latex\")"
   ]
  },
  {
   "cell_type": "code",
   "execution_count": 187,
   "metadata": {},
   "outputs": [],
   "source": [
    "# Get the statevector after applying the gate\n",
    "state = Statevector.from_instruction(qc)\n",
    "plot_bloch_multivector(state)  # Bloch sphere representation"
   ]
  },
  {
   "cell_type": "markdown",
   "metadata": {},
   "source": [
    "### Truth Table of Teffoli"
   ]
  },
  {
   "cell_type": "code",
   "execution_count": null,
   "metadata": {},
   "outputs": [],
   "source": [
    "\n",
    "\n",
    "# Function to simulate the Toffoli gate and print the truth table\n",
    "def print_toffoli_truth_table():\n",
    "    # Initialize the simulator\n",
    "    simulator = Aer.get_backend('aer_simulator')\n",
    "\n",
    "    # Prepare the truth table header\n",
    "    print(\"Control 1 | Control 2 | Target | Output\")\n",
    "\n",
    "    # Iterate over all possible input combinations (0 to 7 for 3 qubits)\n",
    "    for i in range(8):\n",
    "        # Create a quantum circuit with 3 qubits and 3 classical bits\n",
    "        qc = QuantumCircuit(3, 3)\n",
    "\n",
    "        # Set the initial state based on the binary representation of i\n",
    "        if i & 0b001:\n",
    "            qc.x(0)  # Set qubit 0 to |1⟩\n",
    "        if i & 0b010:\n",
    "            qc.x(1)  # Set qubit 1 to |1⟩\n",
    "        if i & 0b100:\n",
    "            qc.x(2)  # Set qubit 2 to |1⟩\n",
    "\n",
    "        # Apply the Toffoli gate\n",
    "        qc.ccx(0, 1, 2)\n",
    "\n",
    "        # Measure the qubits\n",
    "        qc.measure([0, 1, 2], [0, 1, 2])\n",
    "\n",
    "        # Transpile the circuit for the simulator\n",
    "        compiled_circuit = transpile(qc, simulator)\n",
    "\n",
    "        # Execute the circuit\n",
    "        result = simulator.run(compiled_circuit, shots=1).result()\n",
    "        counts = result.get_counts()\n",
    "\n",
    "        # Extract the output state\n",
    "        output_state = list(counts.keys())[0]\n",
    "\n",
    "        # Print the input and output states in binary\n",
    "        print(f\"    {i & 0b001}     |     {(i & 0b010) >> 1}     |   {(i & 0b100) >> 2}   |  {output_state[::-1]}\")\n",
    "\n",
    "# Call the function to print the truth table\n",
    "print_toffoli_truth_table()"
   ]
  },
  {
   "cell_type": "markdown",
   "metadata": {},
   "source": [
    "### AND Gate"
   ]
  },
  {
   "attachments": {
    "image.png": {
     "image/png": "[encoded data removed]"
    }
   },
   "cell_type": "markdown",
   "metadata": {},
   "source": [
    "![image.png](attachment:image.png)"
   ]
  },
  {
   "cell_type": "code",
   "execution_count": 98,
   "metadata": {},
   "outputs": [],
   "source": [
    "from qiskit import QuantumCircuit\n",
    "from qiskit.visualization import circuit_drawer\n",
    "\n",
    "# Create a quantum circuit with 3 qubits\n",
    "qc = QuantumCircuit(3, 1)\n",
    "\n",
    "# Apply the Toffoli gate with qubit 2 as the target\n",
    "qc.ccx(0, 1, 2)\n",
    "\n",
    "# Measure the target qubit (qubit 2) to get the AND result\n",
    "qc.measure(2, 0)\n",
    "\n",
    "# Draw the circuit\n",
    "circuit_drawer(qc, output='mpl')"
   ]
  },
  {
   "cell_type": "code",
   "execution_count": 99,
   "metadata": {},
   "outputs": [],
   "source": [
    "from qiskit.quantum_info import DensityMatrix\n",
    "\n",
    "DensityMatrix(psi).draw(\"latex\")  # convert to a DensityMatrix and draw"
   ]
  },
  {
   "cell_type": "code",
   "execution_count": 101,
   "metadata": {},
   "outputs": [],
   "source": [
    "\n",
    "\n",
    "# Function to simulate an AND gate using the Toffoli gate and print the truth table\n",
    "def print_and_gate_truth_table():\n",
    "    # Initialize the simulator\n",
    "    simulator = Aer.get_backend('aer_simulator')\n",
    "\n",
    "    # Prepare the truth table header\n",
    "    print(\"Input A | Input B | Output\")\n",
    "\n",
    "    # Iterate over all possible input combinations (0 to 3 for 2 inputs)\n",
    "    for i in range(4):\n",
    "        # Create a quantum circuit with 3 qubits and 1 classical bit\n",
    "        qc = QuantumCircuit(3, 1)\n",
    "\n",
    "        # Set the initial state based on the binary representation of i\n",
    "        if i & 0b01:\n",
    "            qc.x(0)  # Set qubit 0 (Input A) to |1⟩\n",
    "        if i & 0b10:\n",
    "            qc.x(1)  # Set qubit 1 (Input B) to |1⟩\n",
    "\n",
    "        # Apply the Toffoli gate with qubit 2 as the target\n",
    "        qc.ccx(0, 1, 2)\n",
    "\n",
    "        # Measure the target qubit (qubit 2) to get the AND result\n",
    "        qc.measure(2, 0)\n",
    "\n",
    "        # Transpile the circuit for the simulator\n",
    "        compiled_circuit = transpile(qc, simulator)\n",
    "\n",
    "        # Execute the circuit\n",
    "        result = simulator.run(compiled_circuit, shots=1).result()\n",
    "        counts = result.get_counts()\n",
    "\n",
    "        # Extract the output state\n",
    "        output_state = list(counts.keys())[0]\n",
    "\n",
    "        # Print the input and output states\n",
    "        print(f\"   {i & 0b01}     |    {(i & 0b10) >> 1}    |   {output_state}\")\n",
    "\n",
    "# Call the function to print the truth table\n",
    "print_and_gate_truth_table()"
   ]
  },
  {
   "cell_type": "markdown",
   "metadata": {},
   "source": [
    "### NAND Gate"
   ]
  },
  {
   "attachments": {
    "image.png": {
     "image/png": "[encoded data removed]"
    }
   },
   "cell_type": "markdown",
   "metadata": {},
   "source": [
    "![image.png](attachment:image.png)"
   ]
  },
  {
   "cell_type": "markdown",
   "metadata": {},
   "source": [
    "| Input A | Input B | Output |\n",
    "|---------|---------|--------|\n",
    "|    0    |    0    |    1   |\n",
    "|    1    |    0    |    1   |\n",
    "|    0    |    1    |    1   |\n",
    "|    1    |    1    |    0   |"
   ]
  },
  {
   "cell_type": "code",
   "execution_count": 92,
   "metadata": {},
   "outputs": [],
   "source": [
    "from qiskit import QuantumCircuit\n",
    "from qiskit.visualization import circuit_drawer\n",
    "\n",
    "# Create a quantum circuit with 3 qubits\n",
    "qc = QuantumCircuit(3, 1)\n",
    "\n",
    "qc.x(0)\n",
    "qc.x(1)\n",
    "\n",
    "qc.x(2)\n",
    "\n",
    "# Apply the Toffoli gate with qubit 2 as the target\n",
    "qc.ccx(0, 1, 2)\n",
    "\n",
    "# Measure the target qubit (qubit 2) to get the AND result\n",
    "qc.measure(2, 0)\n",
    "\n",
    "# Draw the circuit\n",
    "circuit_drawer(qc, output='mpl')"
   ]
  },
  {
   "cell_type": "code",
   "execution_count": 93,
   "metadata": {},
   "outputs": [],
   "source": [
    "# Initialize the simulator\n",
    "simulator = AerSimulator()\n",
    "\n",
    "# Transpile the circuit for the simulator\n",
    "compiled_circuit = transpile(qc, simulator)\n",
    "\n",
    "# Execute the circuit on the simulator\n",
    "result = simulator.run(compiled_circuit, shots=1).result()\n",
    "\n",
    "# Get the measurement results\n",
    "counts = result.get_counts(qc)\n",
    "\n",
    "# Print the measurement results\n",
    "print(\"Measurement results:\", counts)\n",
    "\n",
    "# Plot the histogram of the results\n",
    "plot_histogram(counts)"
   ]
  },
  {
   "cell_type": "markdown",
   "metadata": {},
   "source": [
    "### OR Gate"
   ]
  },
  {
   "cell_type": "markdown",
   "metadata": {},
   "source": [
    "A∨B=¬(¬A∧¬B)"
   ]
  },
  {
   "attachments": {
    "image.png": {
     "image/png": "[encoded data removed]"
    }
   },
   "cell_type": "markdown",
   "metadata": {},
   "source": [
    "![image.png](attachment:image.png)"
   ]
  },
  {
   "cell_type": "code",
   "execution_count": 96,
   "metadata": {},
   "outputs": [],
   "source": [
    "from qiskit import QuantumCircuit\n",
    "from qiskit.visualization import circuit_drawer\n",
    "\n",
    "# Create a quantum circuit with 4 qubits (2 inputs, 1 auxiliary, 1 output)\n",
    "qc = QuantumCircuit(5, 1)\n",
    "\n",
    "qc.x(0)\n",
    "\n",
    "# Apply X gates to negate the inputs\n",
    "qc.x(1)\n",
    "qc.x(2)\n",
    "qc.x(3)\n",
    "\n",
    "# First Toffoli gate: Use qubits 0 and 1 as controls, qubit 2 as auxiliary\n",
    "qc.ccx(0, 2, 1)\n",
    "\n",
    "# Second Toffoli gate: Use qubits 0 and 2 as controls, qubit 3 as target\n",
    "qc.ccx(2, 4, 3)\n",
    "\n",
    "\n",
    "qc.ccx(1, 3, 2)\n",
    "\n",
    "\n",
    "qc.measure(2, 0)\n",
    "\n",
    "\n",
    "# Draw the circuit\n",
    "circuit_drawer(qc, output='mpl')"
   ]
  },
  {
   "cell_type": "code",
   "execution_count": 97,
   "metadata": {},
   "outputs": [],
   "source": [
    "# Initialize the simulator\n",
    "simulator = AerSimulator()\n",
    "\n",
    "# Transpile the circuit for the simulator\n",
    "compiled_circuit = transpile(qc, simulator)\n",
    "\n",
    "# Execute the circuit on the simulator\n",
    "result = simulator.run(compiled_circuit, shots=1).result()\n",
    "\n",
    "# Get the measurement results\n",
    "counts = result.get_counts(qc)\n",
    "\n",
    "# Print the measurement results\n",
    "print(\"Measurement results:\", counts)\n",
    "\n",
    "# Plot the histogram of the results\n",
    "plot_histogram(counts)"
   ]
  },
  {
   "cell_type": "markdown",
   "metadata": {},
   "source": [
    "### XOR Gate"
   ]
  },
  {
   "cell_type": "code",
   "execution_count": 198,
   "metadata": {},
   "outputs": [],
   "source": [
    "from qiskit import QuantumCircuit\n",
    "from qiskit.visualization import circuit_drawer\n",
    "\n",
    "# Create a quantum circuit with 2 qubits\n",
    "qc = QuantumCircuit(2, 1)\n",
    "\n",
    "# Apply the CNOT gate with qubit 0 as control and qubit 1 as target\n",
    "qc.cx(0, 1)\n",
    "\n",
    "# Measure the target qubit (qubit 1) to get the XOR result\n",
    "qc.measure(1, 0)\n",
    "\n",
    "# Draw the circuit\n",
    "circuit_drawer(qc, output='mpl')"
   ]
  },
  {
   "cell_type": "code",
   "execution_count": 200,
   "metadata": {},
   "outputs": [],
   "source": [
    "\n",
    "# Function to simulate an XOR gate using the CNOT gate and print the truth table\n",
    "def print_xor_gate_truth_table():\n",
    "    # Initialize the simulator\n",
    "    simulator = Aer.get_backend('aer_simulator')\n",
    "\n",
    "    # Prepare the truth table header\n",
    "    print(\"Input A | Input B | Output\")\n",
    "\n",
    "    # Iterate over all possible input combinations (0 to 3 for 2 inputs)\n",
    "    for i in range(4):\n",
    "        # Create a quantum circuit with 2 qubits and 1 classical bit\n",
    "        qc = QuantumCircuit(2, 1)\n",
    "\n",
    "        # Set the initial state based on the binary representation of i\n",
    "        if i & 0b01:\n",
    "            qc.x(0)  # Set qubit 0 (Input A) to |1⟩\n",
    "        if i & 0b10:\n",
    "            qc.x(1)  # Set qubit 1 (Input B) to |1⟩\n",
    "\n",
    "        # Apply the CNOT gate with qubit 0 as control and qubit 1 as target\n",
    "        qc.cx(0, 1)\n",
    "\n",
    "        # Measure the target qubit (qubit 1) to get the XOR result\n",
    "        qc.measure(1, 0)\n",
    "\n",
    "        # Transpile the circuit for the simulator\n",
    "        compiled_circuit = transpile(qc, simulator)\n",
    "\n",
    "        # Execute the circuit\n",
    "        result = simulator.run(compiled_circuit, shots=1).result()\n",
    "        counts = result.get_counts()\n",
    "\n",
    "        # Extract the output state\n",
    "        output_state = list(counts.keys())[0]\n",
    "\n",
    "        # Print the input and output states\n",
    "        print(f\"   {i & 0b01}     |    {(i & 0b10) >> 1}    |   {output_state}\")\n",
    "\n",
    "# Call the function to print the truth table\n",
    "print_xor_gate_truth_table()"
   ]
  },
  {
   "cell_type": "markdown",
   "metadata": {},
   "source": []
  },
  {
   "cell_type": "markdown",
   "metadata": {},
   "source": []
  },
  {
   "cell_type": "markdown",
   "metadata": {},
   "source": []
  },
  {
   "cell_type": "markdown",
   "metadata": {},
   "source": []
  },
  {
   "cell_type": "code",
   "execution_count": null,
   "metadata": {},
   "outputs": [],
   "source": [
    " "
   ]
  },
  {
   "cell_type": "markdown",
   "metadata": {},
   "source": []
  },
  {
   "cell_type": "markdown",
   "metadata": {},
   "source": []
  },
  {
   "cell_type": "markdown",
   "metadata": {},
   "source": []
  },
  {
   "cell_type": "markdown",
   "metadata": {},
   "source": []
  },
  {
   "cell_type": "markdown",
   "metadata": {},
   "source": []
  },
  {
   "cell_type": "markdown",
   "metadata": {},
   "source": []
  },
  {
   "cell_type": "markdown",
   "metadata": {},
   "source": []
  },
  {
   "cell_type": "markdown",
   "metadata": {},
   "source": [
    "# Deutsch's algorithm"
   ]
  },
  {
   "cell_type": "markdown",
   "metadata": {},
   "source": [
    "Deutsch Algorithm\n"
   ]
  },
  {
   "attachments": {
    "image.png": {
     "image/png": "[encoded data removed]"
    }
   },
   "cell_type": "markdown",
   "metadata": {},
   "source": [
    "![image.png](attachment:image.png)"
   ]
  },
  {
   "cell_type": "code",
   "execution_count": 163,
   "metadata": {},
   "outputs": [],
   "source": [
    "import qiskit as qs\n",
    "from qiskit import QuantumCircuit, QuantumRegister,ClassicalRegister\n",
    "regs = [QuantumRegister(2, 'q'), ClassicalRegister(1, 'c')]\n",
    "# state initialization: apply x on output bit, and H on all\n",
    "init = QuantumCircuit(*regs)\n",
    "init.x(1)\n",
    "init.h(0)\n",
    "init.h(1)\n",
    "init.barrier() # only for separation in printing\n",
    "init.draw(output='mpl')  # Display the circuit\n",
    "\n"
   ]
  },
  {
   "cell_type": "code",
   "execution_count": 164,
   "metadata": {},
   "outputs": [],
   "source": [
    "end  = QuantumCircuit(*regs)\n",
    "end.barrier() # only for separation in printing\n",
    "end.h(0)\n",
    "end.measure(0, 0)\n",
    "end.draw(output='mpl')  # Display the circuit"
   ]
  },
  {
   "cell_type": "code",
   "execution_count": null,
   "metadata": {},
   "outputs": [],
   "source": [
    "totoal = QuantumCircuit(*regs)\n",
    "totoal.append(init, [0, 1], [0])\n",
    "totoal.append(end, [0, 1], [0])\n",
    "totoal.decompose().draw(output='mpl')  # Display the circuit"
   ]
  },
  {
   "cell_type": "markdown",
   "metadata": {},
   "source": [
    "## Unbalanced function"
   ]
  },
  {
   "cell_type": "markdown",
   "metadata": {},
   "source": [
    "function: \n",
    "\\begin{align}\n",
    "f(|x, y⟩) = |x, f(x)⊕ y⟩ \\\\ \n",
    "\\end{align}\n",
    "\n",
    " we want f(x) to always be 0 or always be 1."
   ]
  },
  {
   "cell_type": "markdown",
   "metadata": {},
   "source": [
    "unbalanced0 : \n",
    "\\begin{align}\n",
    "f(|x, y⟩) = |x, f(x)⊕ y⟩ = |x, 0⊕ y⟩ = |x, y⟩ \\\\ \n",
    "\\end{align}\n",
    "\n"
   ]
  },
  {
   "cell_type": "code",
   "execution_count": 140,
   "metadata": {},
   "outputs": [],
   "source": [
    "totoal = QuantumCircuit(*regs)\n",
    "totoal.append(init, [0, 1], [0])\n",
    "totoal.append(end, [0, 1], [0])\n",
    "totoal.decompose().draw(output='mpl')  # Display the circuit"
   ]
  },
  {
   "cell_type": "code",
   "execution_count": 150,
   "metadata": {},
   "outputs": [],
   "source": [
    "# Simulate the circuit\n",
    "simulator = Aer.get_backend('aer_simulator')  # Use Aer simulator\n",
    "totoal = transpile(totoal, simulator)  # Transpile for the backend\n",
    "job = simulator.run(totoal, shots=1024)\n",
    "result = job.result()\n",
    "counts = result.get_counts()\n",
    "print(counts)\n"
   ]
  },
  {
   "cell_type": "markdown",
   "metadata": {},
   "source": [
    "unbalanced1 : \n",
    "\\begin{align}\n",
    "f(|x, y⟩) = |x, f(x)⊕ y⟩ = |x, 1⊕ y⟩ = |x,~y⟩\n",
    "\\end{align}\n",
    "So we always flip y regardless of x. A quantum circuit will simply apply a NOT to the y register:"
   ]
  },
  {
   "cell_type": "code",
   "execution_count": 145,
   "metadata": {},
   "outputs": [],
   "source": [
    "unbalanced1 = QuantumCircuit(*regs)\n",
    "unbalanced1.x(1)\n",
    "unbalanced1.draw(output='mpl')  # Display the circuit"
   ]
  },
  {
   "cell_type": "code",
   "execution_count": 148,
   "metadata": {},
   "outputs": [],
   "source": [
    "totoal = QuantumCircuit(*regs)\n",
    "totoal.append(init, [0, 1], [0])\n",
    "totoal.append(unbalanced1, [0, 1], [0])\n",
    "totoal.append(end, [0, 1], [0])\n",
    "totoal.decompose().draw(output='mpl')  # Display the circuit"
   ]
  },
  {
   "cell_type": "code",
   "execution_count": 149,
   "metadata": {},
   "outputs": [],
   "source": [
    "# Simulate the circuit\n",
    "simulator = Aer.get_backend('aer_simulator')  # Use Aer simulator\n",
    "totoal = transpile(totoal, simulator)  # Transpile for the backend\n",
    "job = simulator.run(totoal, shots=1024)\n",
    "result = job.result()\n",
    "counts = result.get_counts()\n",
    "print(counts)\n"
   ]
  },
  {
   "cell_type": "markdown",
   "metadata": {},
   "source": [
    "## Balanced function"
   ]
  },
  {
   "cell_type": "markdown",
   "metadata": {},
   "source": [
    "the simplest case of\n",
    "\\begin{align}\n",
    "f(x)=x \n",
    "\\end{align}\n",
    "\n",
    "\\begin{align}\n",
    "f(∣x, y⟩) = |x, f(x)⊕ y⟩ = |x, x⊕ y⟩ \\\\ \n",
    "\\end{align}"
   ]
  },
  {
   "cell_type": "code",
   "execution_count": 154,
   "metadata": {},
   "outputs": [],
   "source": [
    "balanced = QuantumCircuit(*regs)\n",
    "balanced.cx(0,1)\n",
    "balanced.draw(output='mpl')  # Display the circuit"
   ]
  },
  {
   "cell_type": "code",
   "execution_count": 155,
   "metadata": {},
   "outputs": [],
   "source": [
    "totoal = QuantumCircuit(*regs)\n",
    "totoal.append(init, [0, 1], [0])\n",
    "totoal.append(balanced, [0, 1], [0])\n",
    "totoal.append(end, [0, 1], [0])\n",
    "totoal.decompose().draw(output='mpl')  # Display the circuit"
   ]
  },
  {
   "cell_type": "code",
   "execution_count": 175,
   "metadata": {},
   "outputs": [],
   "source": [
    "# Simulate the circuit\n",
    "simulator = Aer.get_backend('aer_simulator')  # Use Aer simulator\n",
    "totoal = transpile(totoal, simulator)  # Transpile for the backend\n",
    "job = simulator.run(totoal, shots=1024)\n",
    "result = job.result()\n",
    "counts = result.get_counts()\n",
    "print(counts)"
   ]
  },
  {
   "cell_type": "markdown",
   "metadata": {},
   "source": [
    "## Debugging the circuit"
   ]
  },
  {
   "cell_type": "code",
   "execution_count": 172,
   "metadata": {},
   "outputs": [],
   "source": [
    "psi = Statevector(init)\n",
    "psi.draw(\"latex\")"
   ]
  }
 ],
 "metadata": {
  "kernelspec": {
   "display_name": "qiskitenv",
   "language": "python",
   "name": "python3"
  },
  "language_info": {
   "codemirror_mode": {
    "name": "ipython",
    "version": 3
   },
   "file_extension": ".py",
   "mimetype": "text/x-python",
   "name": "python",
   "nbconvert_exporter": "python",
   "pygments_lexer": "ipython3",
   "version": "3.11.10"
  }
 },
 "nbformat": 4,
 "nbformat_minor": 2
}
